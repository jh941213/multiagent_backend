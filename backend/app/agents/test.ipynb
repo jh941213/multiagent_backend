{
 "cells": [
  {
   "cell_type": "code",
   "execution_count": 2,
   "metadata": {},
   "outputs": [
    {
     "name": "stdout",
     "output_type": "stream",
     "text": [
      "/Users/kdb/Desktop/stockelper_v3.5/backend\n",
      "{'error': \"검색 중 오류 발생: Error in faiss::FileIOReader::FileIOReader(const char *) at /Users/runner/work/faiss-wheels/faiss-wheels/faiss/faiss/impl/io.cpp:68: Error: 'f' failed: could not open /Users/kdb/Desktop/stockelper_v3.5/vector_db/계좌개설/index.faiss for reading: No such file or directory\"}\n"
     ]
    }
   ],
   "source": [
    "%cd ..\n",
    "from tools.vector_db_tool import VectorDBSearchTool\n",
    "import asyncio\n",
    "import nest_asyncio\n",
    "\n",
    "# 중첩된 이벤트 루프 허용\n",
    "nest_asyncio.apply()\n",
    "\n",
    "async def run_search():\n",
    "    vector_db_tool = VectorDBSearchTool()\n",
    "    result = await vector_db_tool._arun(\"계좌개설관련\")\n",
    "    return result\n",
    "\n",
    "loop = asyncio.get_event_loop()\n",
    "result = loop.run_until_complete(run_search())\n",
    "print(result)"
   ]
  },
  {
   "cell_type": "code",
   "execution_count": null,
   "metadata": {},
   "outputs": [],
   "source": []
  }
 ],
 "metadata": {
  "kernelspec": {
   "display_name": "kospi",
   "language": "python",
   "name": "python3"
  },
  "language_info": {
   "codemirror_mode": {
    "name": "ipython",
    "version": 3
   },
   "file_extension": ".py",
   "mimetype": "text/x-python",
   "name": "python",
   "nbconvert_exporter": "python",
   "pygments_lexer": "ipython3",
   "version": "3.11.9"
  }
 },
 "nbformat": 4,
 "nbformat_minor": 2
}
